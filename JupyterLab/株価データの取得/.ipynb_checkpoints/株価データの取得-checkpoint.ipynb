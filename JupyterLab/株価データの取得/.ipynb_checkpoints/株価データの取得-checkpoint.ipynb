{
 "cells": [
  {
   "cell_type": "code",
   "execution_count": 34,
   "metadata": {},
   "outputs": [],
   "source": [
    "import csv\n",
    "import requests\n",
    "import json\n",
    "\n",
    "import os\n",
    "from pathlib import Path\n",
    "from dotenv import load_dotenv\n",
    "\n",
    "# Get the base directory\n",
    "basepath = Path()\n",
    "basedir = str(basepath.cwd())\n",
    "# Load the environment variables\n",
    "envars = basepath.cwd() / '.env'\n",
    "load_dotenv(envars)\n",
    "# Read an environment variable.\n",
    "API_TOKEN = os.getenv('API_TOKEN')"
   ]
  },
  {
   "cell_type": "code",
   "execution_count": 35,
   "metadata": {},
   "outputs": [
    {
     "name": "stdout",
     "output_type": "stream",
     "text": [
      "dict_keys(['Meta Data', 'Time Series (Daily)'])\n"
     ]
    }
   ],
   "source": [
    "response = requests.get(\"https://www.alphavantage.co/query?function=TIME_SERIES_DAILY&symbol=IBM&apikey={0}\".format(API_TOKEN))\n",
    "data = json.loads(response.text)\n",
    "print(data.keys())"
   ]
  },
  {
   "cell_type": "code",
   "execution_count": 20,
   "metadata": {},
   "outputs": [
    {
     "name": "stdout",
     "output_type": "stream",
     "text": [
      "None\n"
     ]
    }
   ],
   "source": [
    "import os\n",
    "from os.path import join, dirname\n",
    "# from dotenv import load_dotenv\n",
    "\n",
    "# load_dotenv(verbose=True)\n",
    "\n",
    "# dotenv_path = join(dirname(__file__), '../.env')\n",
    "# load_dotenv(dotenv_path)\n",
    "\n",
    "DSN = os.getenv('API_TOKEN')\n",
    "\n",
    "print(DSN)"
   ]
  },
  {
   "cell_type": "code",
   "execution_count": 31,
   "metadata": {},
   "outputs": [],
   "source": [
    "import os\n",
    "from pathlib import Path\n",
    "from dotenv import load_dotenv\n",
    "\n",
    "# Get the base directory\n",
    "basepath = Path()\n",
    "basedir = str(basepath.cwd())\n",
    "# Load the environment variables\n",
    "envars = basepath.cwd() / '.env'\n",
    "load_dotenv(envars)\n",
    "# Read an environment variable.\n",
    "SECRET_KEY = os.getenv('API_TOKEN')"
   ]
  },
  {
   "cell_type": "code",
   "execution_count": 24,
   "metadata": {},
   "outputs": [],
   "source": [
    "from dotenv import load_dotenv"
   ]
  },
  {
   "cell_type": "code",
   "execution_count": 32,
   "metadata": {},
   "outputs": [
    {
     "name": "stdout",
     "output_type": "stream",
     "text": [
      "PRVBM1S3VMMPZRL7\n"
     ]
    }
   ],
   "source": [
    "print(SECRET_KEY)"
   ]
  },
  {
   "cell_type": "code",
   "execution_count": null,
   "metadata": {},
   "outputs": [],
   "source": []
  }
 ],
 "metadata": {
  "kernelspec": {
   "display_name": "Python 3",
   "language": "python",
   "name": "python3"
  },
  "language_info": {
   "codemirror_mode": {
    "name": "ipython",
    "version": 3
   },
   "file_extension": ".py",
   "mimetype": "text/x-python",
   "name": "python",
   "nbconvert_exporter": "python",
   "pygments_lexer": "ipython3",
   "version": "3.8.6"
  }
 },
 "nbformat": 4,
 "nbformat_minor": 4
}
