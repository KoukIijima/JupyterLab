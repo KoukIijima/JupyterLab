{
 "cells": [
  {
   "cell_type": "code",
   "execution_count": 30,
   "metadata": {},
   "outputs": [
    {
     "data": {
      "text/plain": [
       "True"
      ]
     },
     "execution_count": 30,
     "metadata": {},
     "output_type": "execute_result"
    }
   ],
   "source": [
    "import azure.cosmos.documents as documents\n",
    "import azure.cosmos.cosmos_client as cosmos_client\n",
    "import azure.cosmos.exceptions as exceptions\n",
    "from azure.cosmos.partition_key import PartitionKey\n",
    "import datetime\n",
    "\n",
    "import os\n",
    "from pathlib import Path\n",
    "from dotenv import load_dotenv\n",
    "\n",
    "# Get the base directory\n",
    "basepath = Path()\n",
    "basedir = str(basepath.cwd())\n",
    "# Load the environment variables\n",
    "envars = basepath.cwd() / '.env'\n",
    "load_dotenv(envars)"
   ]
  },
  {
   "cell_type": "markdown",
   "metadata": {},
   "source": [
    "## DBを作成"
   ]
  },
  {
   "cell_type": "code",
   "execution_count": 29,
   "metadata": {},
   "outputs": [
    {
     "name": "stdout",
     "output_type": "stream",
     "text": [
      "None\n"
     ]
    }
   ],
   "source": [
    "print(API_TOKEN)"
   ]
  },
  {
   "cell_type": "code",
   "execution_count": 34,
   "metadata": {},
   "outputs": [],
   "source": [
    "# Read an environment variable.\n",
    "DB_HOST = os.getenv('DB_HOST')\n",
    "DB_ACCOUNT_KEY = os.getenv('DB_ACCOUNT_KEY')\n",
    "DATABASE_ID = os.getenv('DATABASE_ID')\n",
    "COSMOS_CONTAINER = os.getenv('COSMOS_CONTAINER')"
   ]
  },
  {
   "cell_type": "code",
   "execution_count": 35,
   "metadata": {},
   "outputs": [],
   "source": [
    "client = cosmos_client.CosmosClient(DB_HOST, {'masterKey': DB_ACCOUNT_KEY}, user_agent=\"CosmosDBPythonQuickstart\", user_agent_overwrite=True)"
   ]
  },
  {
   "cell_type": "code",
   "execution_count": 37,
   "metadata": {},
   "outputs": [],
   "source": [
    "# setup database for this sample\n",
    "try:\n",
    "    db = client.create_database(id=DATABASE_ID)\n",
    "\n",
    "except exceptions.CosmosResourceExistsError:\n",
    "    pass"
   ]
  },
  {
   "cell_type": "code",
   "execution_count": 38,
   "metadata": {},
   "outputs": [],
   "source": [
    "container = db.create_container(id=COSMOS_CONTAINER, partition_key=PartitionKey(path='/code'), offer_throughput=400)"
   ]
  },
  {
   "cell_type": "markdown",
   "metadata": {},
   "source": [
    "## データを登録"
   ]
  },
  {
   "cell_type": "code",
   "execution_count": 39,
   "metadata": {},
   "outputs": [],
   "source": [
    "# 株価データを取得する\n",
    "def get_data(code):\n",
    "    order1 = {'code' : code,\n",
    "            'account_number' : 'Account1',\n",
    "            'purchase_order_number' : 'PO18009186470',\n",
    "            'order_date' : datetime.date(2005,1,10).strftime('%c'),\n",
    "            'subtotal' : 419.4589,\n",
    "            'tax_amount' : 12.5838,\n",
    "            'freight' : 472.3108,\n",
    "            'total_due' : 985.018,\n",
    "            'items' : [\n",
    "                {'order_qty' : 1,\n",
    "                    'product_id' : 100,\n",
    "                    'unit_price' : 418.4589,\n",
    "                    'line_price' : 418.4589\n",
    "                }\n",
    "                ],\n",
    "            'ttl' : 60 * 60 * 24 * 30\n",
    "            }\n",
    "\n",
    "    return order1"
   ]
  },
  {
   "cell_type": "code",
   "execution_count": null,
   "metadata": {},
   "outputs": [],
   "source": []
  }
 ],
 "metadata": {
  "kernelspec": {
   "display_name": "Python 3",
   "language": "python",
   "name": "python3"
  },
  "language_info": {
   "codemirror_mode": {
    "name": "ipython",
    "version": 3
   },
   "file_extension": ".py",
   "mimetype": "text/x-python",
   "name": "python",
   "nbconvert_exporter": "python",
   "pygments_lexer": "ipython3",
   "version": "3.8.6"
  }
 },
 "nbformat": 4,
 "nbformat_minor": 4
}
