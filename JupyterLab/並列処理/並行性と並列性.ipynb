{
 "cells": [
  {
   "cell_type": "code",
   "execution_count": 39,
   "metadata": {},
   "outputs": [],
   "source": [
    "import subprocess\n",
    "import time\n",
    "import datetime\n",
    "import collections\n",
    "import numpy as np\n",
    "from concurrent.futures import ProcessPoolExecutor, ThreadPoolExecutor"
   ]
  },
  {
   "cell_type": "code",
   "execution_count": 163,
   "metadata": {},
   "outputs": [],
   "source": [
    "# 長めな処理\n",
    "def gcd(pair):\n",
    "    a, b = pair\n",
    "    if a < b:\n",
    "        low = a\n",
    "    else:\n",
    "        low = b\n",
    "    # print(\"a: %f b: %f\" %(a, b))\n",
    "    for i in range(int(low), 0, -1):\n",
    "        if a % i == 0 and b % i ==0:\n",
    "            return i\n",
    "\n",
    "# 逐次処理\n",
    "def single_thread_test(sample_func, arr_list, process_num_list):\n",
    "    result_obj = {}\n",
    "    for process_num in process_num_list:\n",
    "        results = []\n",
    "        for i in range(process_num):\n",
    "            start = time.time()\n",
    "            results = list(map(sumple_func, arr_list))\n",
    "            end = time.time()\n",
    "            results.append(end - start)\n",
    "        result_obj[process_num] = results\n",
    "    return result_obj\n",
    "\n",
    "\n",
    "# ThreadPoolExecutor\n",
    "def thread_pool_test(sample_func, arr_list, process_num_list):\n",
    "    result_obj = {}\n",
    "    for process_num in process_num_list:\n",
    "        results = []\n",
    "        for i in range(process_num):\n",
    "            start = time.time()\n",
    "            pool = ThreadPoolExecutor(max_workers=2)\n",
    "            results = list(pool.map(sample_func, arr_list))\n",
    "            end = time.time()\n",
    "            results.append(end - start)\n",
    "        result_obj[process_num] = results\n",
    "    return result_obj\n",
    "\n",
    "\n",
    "# ProcessPoolExecutor\n",
    "def process_pool_test(sample_func, arr_list, procews_num_list):\n",
    "    result_obj = {}\n",
    "    for process_num in process_num_list:\n",
    "        results = []\n",
    "        for i in range(process_num):\n",
    "            start = time.time()\n",
    "            pool = ProcessPoolExecutor(max_workers=2)\n",
    "            results = list(pool.map(sample_func, arr_list))\n",
    "            end = time.time()\n",
    "            results.append(end - start)\n",
    "        result_obj[process_num] = results\n",
    "    return result_obj"
   ]
  },
  {
   "cell_type": "code",
   "execution_count": 160,
   "metadata": {},
   "outputs": [],
   "source": [
    "# 処理の個数\n",
    "process_num_list = [5, 10, 100, 1000, 10000]\n",
    "# 処理の重さ\n",
    "process_weight_list = [100, 10000, 1000000]\n",
    "\n",
    "# 検証用データオブジェクト\n",
    "arr_obj = {}\n",
    "for process_num in process_num_list:\n",
    "    arr_obj[process_num] = {}\n",
    "    for process_weight in process_weight_list:\n",
    "        arr_obj[process_num][process_weight] = {}\n",
    "        for index in range(process_num):\n",
    "            arr_list = []\n",
    "            for value in range(10):\n",
    "                arr_list.append(np.random.rand(2) * process_weight)\n",
    "            arr_obj[process_num][process_weight][index] = arr_list"
   ]
  },
  {
   "cell_type": "code",
   "execution_count": 164,
   "metadata": {},
   "outputs": [],
   "source": [
    "# 検証の実行\n"
   ]
  },
  {
   "cell_type": "code",
   "execution_count": null,
   "metadata": {},
   "outputs": [],
   "source": []
  }
 ],
 "metadata": {
  "kernelspec": {
   "display_name": "Python 3",
   "language": "python",
   "name": "python3"
  },
  "language_info": {
   "codemirror_mode": {
    "name": "ipython",
    "version": 3
   },
   "file_extension": ".py",
   "mimetype": "text/x-python",
   "name": "python",
   "nbconvert_exporter": "python",
   "pygments_lexer": "ipython3",
   "version": "3.7.6"
  }
 },
 "nbformat": 4,
 "nbformat_minor": 4
}
