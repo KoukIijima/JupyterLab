{
 "cells": [
  {
   "cell_type": "code",
   "execution_count": 274,
   "metadata": {},
   "outputs": [],
   "source": [
    "import subprocess\n",
    "import time\n",
    "import datetime\n",
    "import collections\n",
    "import numpy as np\n",
    "from concurrent.futures import ProcessPoolExecutor, ThreadPoolExecutor"
   ]
  },
  {
   "cell_type": "code",
   "execution_count": 262,
   "metadata": {},
   "outputs": [],
   "source": [
    "# 長めな処理\n",
    "def gcd(pair):\n",
    "    c = 0\n",
    "    a, b = pair\n",
    "    for i in range(int(a)):\n",
    "        \n",
    "\n",
    "# 逐次処理\n",
    "def single_thread_test(sample_func, arr_list, process_num):\n",
    "    result_obj = {}\n",
    "    results = []\n",
    "    for i in range(process_num):\n",
    "        start = time.time()\n",
    "        map(sample_func, arr_list)\n",
    "        end = time.time()\n",
    "        results.append(end - start)\n",
    "    #print(\"逐次処理： \", results)\n",
    "    result_obj[process_num] = np.mean(results)\n",
    "    return result_obj\n",
    "\n",
    "\n",
    "# ThreadPoolExecutor\n",
    "def thread_pool_test(sample_func, arr_list, process_num):\n",
    "    result_obj = {}\n",
    "    results = []\n",
    "    for i in range(process_num):\n",
    "        start = time.time()\n",
    "        pool = ThreadPoolExecutor(max_workers=2)\n",
    "        pool.map(sample_func, arr_list)\n",
    "        end = time.time()\n",
    "        results.append(end - start)\n",
    "    #print(\"ThreadPoolExecutor： \", results)\n",
    "    result_obj[process_num] = np.mean(results)\n",
    "    return result_obj\n",
    "\n",
    "\n",
    "# ProcessPoolExecutor\n",
    "def process_pool_test(sample_func, arr_list, process_num):\n",
    "    result_obj = {}\n",
    "    results = []\n",
    "    for i in range(process_num):\n",
    "        start = time.time()\n",
    "        pool = ProcessPoolExecutor(max_workers=2)\n",
    "        pool.map(sample_func, arr_list)\n",
    "        end = time.time()\n",
    "        results.append(end - start)\n",
    "    #print(\"ProcessPoolExecutor： \", results)\n",
    "    result_obj[process_num] = np.mean(results)\n",
    "    return result_obj"
   ]
  },
  {
   "cell_type": "code",
   "execution_count": 273,
   "metadata": {},
   "outputs": [
    {
     "ename": "KeyboardInterrupt",
     "evalue": "",
     "output_type": "error",
     "traceback": [
      "\u001b[0;31m---------------------------------------------------------------------------\u001b[0m",
      "\u001b[0;31mKeyboardInterrupt\u001b[0m                         Traceback (most recent call last)",
      "\u001b[0;32m<ipython-input-273-c7cacf873ea2>\u001b[0m in \u001b[0;36m<module>\u001b[0;34m\u001b[0m\n\u001b[1;32m     10\u001b[0m     \u001b[0;32mfor\u001b[0m \u001b[0mprocess_num\u001b[0m \u001b[0;32min\u001b[0m \u001b[0mprocess_num_list\u001b[0m\u001b[0;34m:\u001b[0m\u001b[0;34m\u001b[0m\u001b[0;34m\u001b[0m\u001b[0m\n\u001b[1;32m     11\u001b[0m         \u001b[0;32mfor\u001b[0m \u001b[0mindex\u001b[0m \u001b[0;32min\u001b[0m \u001b[0mrange\u001b[0m\u001b[0;34m(\u001b[0m\u001b[0mprocess_num\u001b[0m\u001b[0;34m)\u001b[0m\u001b[0;34m:\u001b[0m\u001b[0;34m\u001b[0m\u001b[0;34m\u001b[0m\u001b[0m\n\u001b[0;32m---> 12\u001b[0;31m             \u001b[0marr_list\u001b[0m\u001b[0;34m.\u001b[0m\u001b[0mappend\u001b[0m\u001b[0;34m(\u001b[0m\u001b[0mnp\u001b[0m\u001b[0;34m.\u001b[0m\u001b[0mrandom\u001b[0m\u001b[0;34m.\u001b[0m\u001b[0mrand\u001b[0m\u001b[0;34m(\u001b[0m\u001b[0;36m2\u001b[0m\u001b[0;34m)\u001b[0m \u001b[0;34m*\u001b[0m \u001b[0mprocess_weight\u001b[0m\u001b[0;34m)\u001b[0m\u001b[0;34m\u001b[0m\u001b[0;34m\u001b[0m\u001b[0m\n\u001b[0m\u001b[1;32m     13\u001b[0m     \u001b[0marr_obj\u001b[0m\u001b[0;34m[\u001b[0m\u001b[0mprocess_weight\u001b[0m\u001b[0;34m]\u001b[0m \u001b[0;34m=\u001b[0m \u001b[0marr_list\u001b[0m\u001b[0;34m\u001b[0m\u001b[0;34m\u001b[0m\u001b[0m\n",
      "\u001b[0;31mKeyboardInterrupt\u001b[0m: "
     ]
    }
   ],
   "source": [
    "# 処理の個数\n",
    "process_num_list = [5, 10, 100, 10000000]\n",
    "# 処理の重さ\n",
    "process_weight_list = [1000, 100000, 10000000, 10000000000]\n",
    "\n",
    "# 検証用データオブジェクト\n",
    "arr_obj = {}\n",
    "for process_weight in process_weight_list:\n",
    "    arr_list = []\n",
    "    for process_num in process_num_list:\n",
    "        for index in range(process_num):\n",
    "            arr_list.append(np.random.rand(2) * process_weight)\n",
    "    arr_obj[process_weight] = arr_list"
   ]
  },
  {
   "cell_type": "code",
   "execution_count": 267,
   "metadata": {},
   "outputs": [],
   "source": [
    "# 検証の実行\n",
    "single_thread_test_results = []\n",
    "process_pool_test_results = []\n",
    "thread_pool_test_results = []\n",
    "\n",
    "for weight in process_weight_list:\n",
    "    i = 0\n",
    "    for process_num in process_num_list:\n",
    "        single_thread_test_results.append(single_thread_test(gcd, arr_obj[weight][i:process_num], process_num))\n",
    "        i = process_num"
   ]
  },
  {
   "cell_type": "code",
   "execution_count": null,
   "metadata": {},
   "outputs": [],
   "source": [
    "for process_weight in process_weight_list:\n",
    "    process_pool_test_results.append(process_pool_test(gcd, arr_obj[process_num], process_num_list))\n",
    "    thread_pool_test_results.append(thread_pool_test(gcd, arr_obj[process_num], process_num_list))"
   ]
  },
  {
   "cell_type": "code",
   "execution_count": 272,
   "metadata": {},
   "outputs": [
    {
     "name": "stdout",
     "output_type": "stream",
     "text": [
      "Weight is 10:  [array([89057.33689563, 21832.30910077]), array([17878.61449336, 21363.25130826]), array([99403.32831761, 21446.75020795]), array([43460.14788288, 25726.18546283]), array([35618.97330393, 35247.80086957]), array([69022.43672832,  3580.26691898]), array([48970.5585317 ,  4868.64309595]), array([ 6962.20251469, 78504.38838545]), array([53777.11059488, 88686.62563031]), array([75759.63534406, 30778.47397968])]\n"
     ]
    }
   ],
   "source": [
    "print(\"Weight is 10: \", arr_obj[100000][0:10])\n",
    "# print(\"Weight is 10000: \", arr_obj[5][6:10])\n",
    "# print(\"Weight is 1000000: \", arr_obj[5][11:16])"
   ]
  },
  {
   "cell_type": "code",
   "execution_count": 268,
   "metadata": {},
   "outputs": [
    {
     "data": {
      "text/plain": [
       "[{5: 1.3113021850585938e-05},\n",
       " {10: 0.0009366989135742188},\n",
       " {100: 2.2935867309570313e-05},\n",
       " {100000: 1.0936288833618164e-05},\n",
       " {5: 1.0251998901367188e-05},\n",
       " {10: 0.00016508102416992187},\n",
       " {100: 1.9702911376953125e-05},\n",
       " {100000: 1.0434026718139649e-05},\n",
       " {5: 9.72747802734375e-06},\n",
       " {10: 9.036064147949218e-06},\n",
       " {100: 1.0418891906738282e-05},\n",
       " {100000: 1.0084829330444336e-05},\n",
       " {5: 9.441375732421875e-06},\n",
       " {10: 1.6307830810546876e-05},\n",
       " {100: 9.658336639404296e-06},\n",
       " {100000: 9.945271015167236e-06}]"
      ]
     },
     "execution_count": 268,
     "metadata": {},
     "output_type": "execute_result"
    }
   ],
   "source": [
    "single_thread_test_results"
   ]
  },
  {
   "cell_type": "code",
   "execution_count": null,
   "metadata": {},
   "outputs": [],
   "source": []
  }
 ],
 "metadata": {
  "kernelspec": {
   "display_name": "Python 3",
   "language": "python",
   "name": "python3"
  },
  "language_info": {
   "codemirror_mode": {
    "name": "ipython",
    "version": 3
   },
   "file_extension": ".py",
   "mimetype": "text/x-python",
   "name": "python",
   "nbconvert_exporter": "python",
   "pygments_lexer": "ipython3",
   "version": "3.7.6"
  }
 },
 "nbformat": 4,
 "nbformat_minor": 4
}
