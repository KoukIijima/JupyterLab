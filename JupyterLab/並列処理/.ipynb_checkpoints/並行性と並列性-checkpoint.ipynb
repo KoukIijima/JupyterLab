{
 "cells": [
  {
   "cell_type": "code",
   "execution_count": 39,
   "metadata": {},
   "outputs": [],
   "source": [
    "import subprocess\n",
    "import time\n",
    "import datetime\n",
    "import collections\n",
    "import numpy as np\n",
    "from concurrent.futures import ProcessPoolExecutor, ThreadPoolExecutor"
   ]
  },
  {
   "cell_type": "code",
   "execution_count": 47,
   "metadata": {},
   "outputs": [
    {
     "name": "stdout",
     "output_type": "stream",
     "text": [
      "(b'/home/jovyan/work\\n', None)\n"
     ]
    }
   ],
   "source": [
    "proc = subprocess.Popen(['pwd'],stdout=subprocess.PIPE)\n",
    "\n",
    "out = proc.communicate()\n",
    "\n",
    "print(out)"
   ]
  },
  {
   "cell_type": "code",
   "execution_count": 5,
   "metadata": {},
   "outputs": [],
   "source": [
    "def sample_func(process_index):\n",
    "    start = time.time()\n",
    "    print('process index: %s started.' % process_index)\n",
    "    num = 0\n",
    "\n",
    "    for i in range(10000000):\n",
    "        num += 1\n",
    "    end = time.time()\n",
    "    print('process index: %s ended.' % process_index)\n",
    "    print('%s' % (end - start))"
   ]
  },
  {
   "cell_type": "code",
   "execution_count": 18,
   "metadata": {},
   "outputs": [],
   "source": [
    "from multiprocessing import Manager, Process\n",
    "\n",
    "def sample_func(initial_num, returned_dict, process_index):\n",
    "    for i in range(100):\n",
    "        initial_num += 1\n",
    "    returned_dict[process_index] = initial_num\n",
    "\n",
    "\n",
    "manager = Manager()\n",
    "returned_dict = manager.dict()\n",
    "process_list = []\n",
    "\n",
    "for i in range(100):\n",
    "    process = Process(\n",
    "        target=sample_func,\n",
    "        kwargs={\n",
    "            'initial_num': 50,\n",
    "            'returned_dict': returned_dict,\n",
    "            'process_index': i,\n",
    "        })\n",
    "\n",
    "    process.start()\n",
    "process.join()"
   ]
  },
  {
   "cell_type": "code",
   "execution_count": 154,
   "metadata": {},
   "outputs": [],
   "source": [
    "# 長めな処理\n",
    "def gcd(pair):\n",
    "    a, b = pair\n",
    "    if a < b:\n",
    "        low = a\n",
    "    else:\n",
    "        low = b\n",
    "    # print(\"a: %f b: %f\" %(a, b))\n",
    "    for i in range(int(low), 0, -1):\n",
    "        if a % i == 0 and b % i ==0:\n",
    "            return i\n",
    "\n",
    "# 逐次処理\n",
    "def single_thread_test(sample_func, arr_list):\n",
    "    result_1 = []\n",
    "    for i in range(10):\n",
    "        start = time.time()\n",
    "        results = list(map(sumple_func, arr_list))\n",
    "        end = time.time()\n",
    "        # print('Took %.3f seconds' %( end - start))\n",
    "        result_1.append(end - start)\n",
    "    return result_1\n",
    "\n",
    "    \n",
    "# ThreadPoolExecutor\n",
    "def thread_pool_test(sample_func, arr_list):\n",
    "    result_2 = []\n",
    "    for i in range(10):\n",
    "        start = time.time()\n",
    "        pool = ThreadPoolExecutor(max_workers=2)\n",
    "        results = list(pool.map(sample_func, arr_list))\n",
    "        end = time.time()\n",
    "        # print('Took %.3f seconds' %( end - start))\n",
    "        result_2.append(end - start)\n",
    "    return result_2\n",
    "\n",
    "\n",
    "# ProcessPoolExecutor\n",
    "def process_pool_test(sample_func, arr_list):\n",
    "    result_3 = []\n",
    "    for i in range(10):\n",
    "        start = time.time()\n",
    "        pool = ProcessPoolExecutor(max_workers=10)\n",
    "        results = list(pool.map(sample_func, arr_list))\n",
    "        end = time.time()\n",
    "        # print('Took %.3f seconds' %( end - start))\n",
    "        result_3.append(end - start)\n",
    "    return result_3"
   ]
  },
  {
   "cell_type": "code",
   "execution_count": 139,
   "metadata": {},
   "outputs": [],
   "source": [
    "# 処理の個数\n",
    "num_process_list = [5, 10, 100, 1000, 10000]\n",
    "# 処理の重さ\n",
    "weight_process_list = [100, 10000, 1000000]\n",
    "# 検証用のデータ\n",
    "arr_obj = {}\n",
    "for index in range(10):\n",
    "    arr_list = []\n",
    "    for value in range(10):\n",
    "        arr_list.append(np.random.rand(2) * 10000)\n",
    "    arr_obj[index] = arr_list"
   ]
  },
  {
   "cell_type": "code",
   "execution_count": null,
   "metadata": {},
   "outputs": [],
   "source": []
  }
 ],
 "metadata": {
  "kernelspec": {
   "display_name": "Python 3",
   "language": "python",
   "name": "python3"
  },
  "language_info": {
   "codemirror_mode": {
    "name": "ipython",
    "version": 3
   },
   "file_extension": ".py",
   "mimetype": "text/x-python",
   "name": "python",
   "nbconvert_exporter": "python",
   "pygments_lexer": "ipython3",
   "version": "3.7.6"
  }
 },
 "nbformat": 4,
 "nbformat_minor": 4
}
