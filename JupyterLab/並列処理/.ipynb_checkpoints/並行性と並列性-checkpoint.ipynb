{
 "cells": [
  {
   "cell_type": "code",
   "execution_count": 39,
   "metadata": {},
   "outputs": [],
   "source": [
    "import subprocess\n",
    "import time\n",
    "import datetime\n",
    "import collections\n",
    "from concurrent.futures import ProcessPoolExecutor, ThreadPoolExecutor"
   ]
  },
  {
   "cell_type": "code",
   "execution_count": 3,
   "metadata": {},
   "outputs": [],
   "source": [
    "proc = subprocess.Popen(['echo', 'Hello world from child.'],stdout=subprocess.PIPE)"
   ]
  },
  {
   "cell_type": "code",
   "execution_count": 4,
   "metadata": {},
   "outputs": [],
   "source": [
    "out, err = proc.communicate()"
   ]
  },
  {
   "cell_type": "code",
   "execution_count": 5,
   "metadata": {},
   "outputs": [
    {
     "data": {
      "text/plain": [
       "b'Hello world from child.\\n'"
      ]
     },
     "execution_count": 5,
     "metadata": {},
     "output_type": "execute_result"
    }
   ],
   "source": [
    "out"
   ]
  },
  {
   "cell_type": "code",
   "execution_count": 14,
   "metadata": {},
   "outputs": [
    {
     "name": "stdout",
     "output_type": "stream",
     "text": [
      "working...\n",
      "0\n",
      "1\n",
      "2\n",
      "3\n",
      "4\n",
      "5\n",
      "6\n",
      "7\n",
      "8\n",
      "9\n",
      "working...\n",
      "0\n",
      "1\n",
      "2\n",
      "3\n",
      "4\n",
      "5\n",
      "6\n",
      "7\n",
      "8\n",
      "9\n"
     ]
    }
   ],
   "source": [
    "proc = subprocess.Popen(['sleep', '0.01'])\n",
    "while proc.poll() is None:\n",
    "    print('working...')\n",
    "    for i in range(10):\n",
    "        print(i)"
   ]
  },
  {
   "cell_type": "code",
   "execution_count": 15,
   "metadata": {},
   "outputs": [],
   "source": [
    "def run_sleep(period):\n",
    "    proc = subprocess.Popen(['sleep', str(period)])\n",
    "    return proc"
   ]
  },
  {
   "cell_type": "code",
   "execution_count": 46,
   "metadata": {},
   "outputs": [
    {
     "name": "stdout",
     "output_type": "stream",
     "text": [
      "Finished in 0.220 seconds\n"
     ]
    }
   ],
   "source": [
    "start = time.time()\n",
    "procs = []\n",
    "for _ in range(10):\n",
    "    proc = run_sleep(0.1)\n",
    "    procs.append(proc)\n",
    "\n",
    "for proc in procs:\n",
    "    ## 子プロセスが終了するまで待つ\n",
    "    proc.communicate()\n",
    "end = time.time()\n",
    "print('Finished in %.3f seconds' % (end - start))"
   ]
  },
  {
   "cell_type": "code",
   "execution_count": 47,
   "metadata": {},
   "outputs": [
    {
     "name": "stdout",
     "output_type": "stream",
     "text": [
      "(b'/home/jovyan/work\\n', None)\n"
     ]
    }
   ],
   "source": [
    "proc = subprocess.Popen(['pwd'],stdout=subprocess.PIPE)\n",
    "\n",
    "out = proc.communicate()\n",
    "\n",
    "print(out)"
   ]
  },
  {
   "cell_type": "code",
   "execution_count": 5,
   "metadata": {},
   "outputs": [],
   "source": [
    "def sample_func(process_index):\n",
    "    start = time.time()\n",
    "    print('process index: %s started.' % process_index)\n",
    "    num = 0\n",
    "\n",
    "    for i in range(10000000):\n",
    "        num += 1\n",
    "    end = time.time()\n",
    "    print('process index: %s ended.' % process_index)\n",
    "    print('%s' % (end - start))"
   ]
  },
  {
   "cell_type": "code",
   "execution_count": 6,
   "metadata": {},
   "outputs": [],
   "source": [
    "# %%timeit\n",
    "# for i in range(10):\n",
    "#     sample_func(process_index=0)"
   ]
  },
  {
   "cell_type": "code",
   "execution_count": 7,
   "metadata": {},
   "outputs": [
    {
     "name": "stdout",
     "output_type": "stream",
     "text": [
      "process index: 0 started.\n",
      "process index: 0 ended.\n",
      "1.0255699157714844\n"
     ]
    }
   ],
   "source": [
    "sample_func(0)"
   ]
  },
  {
   "cell_type": "code",
   "execution_count": 18,
   "metadata": {},
   "outputs": [],
   "source": [
    "from multiprocessing import Manager, Process\n",
    "\n",
    "def sample_func(initial_num, returned_dict, process_index):\n",
    "    for i in range(100):\n",
    "        initial_num += 1\n",
    "    returned_dict[process_index] = initial_num\n",
    "\n",
    "\n",
    "manager = Manager()\n",
    "returned_dict = manager.dict()\n",
    "process_list = []\n",
    "\n",
    "for i in range(100):\n",
    "    process = Process(\n",
    "        target=sample_func,\n",
    "        kwargs={\n",
    "            'initial_num': 50,\n",
    "            'returned_dict': returned_dict,\n",
    "            'process_index': i,\n",
    "        })\n",
    "\n",
    "    process.start()\n",
    "process.join()"
   ]
  },
  {
   "cell_type": "code",
   "execution_count": 30,
   "metadata": {},
   "outputs": [],
   "source": [
    "# ライフゲーム\n",
    "Query = collections.namedtuple('Query', ('y', 'x'))"
   ]
  },
  {
   "cell_type": "code",
   "execution_count": 51,
   "metadata": {},
   "outputs": [],
   "source": [
    "def gcd(pair):\n",
    "    a, b = pair\n",
    "    low = min(a, b)\n",
    "    print(\"a: %f b: %f\" %(a, b))\n",
    "    for i in range(low, 0, -1):\n",
    "        if a % i == 0 and b % i ==0:\n",
    "            return i"
   ]
  },
  {
   "cell_type": "code",
   "execution_count": 60,
   "metadata": {},
   "outputs": [
    {
     "name": "stdout",
     "output_type": "stream",
     "text": [
      "a: 196336.000000 b: 206674.000000\n",
      "a: 203700.000000 b: 5860949.000000\n",
      "a: 6663305.000000 b: 9895713.000000\n",
      "a: 196336.000000 b: 206674.000000\n",
      "a: 203700.000000 b: 5860949.000000\n",
      "a: 6663305.000000 b: 9895713.000000\n",
      "Took 1.309 seconds\n"
     ]
    }
   ],
   "source": [
    "numbers = [(196336, 206674), (203700, 5860949), (6663305, 9895713),(196336, 206674), (203700, 5860949), (6663305, 9895713)]\n",
    "start = time.time()\n",
    "results = list(map(gcd, numbers))\n",
    "end = time.time()\n",
    "print('Took %.3f seconds' %( end - start))"
   ]
  },
  {
   "cell_type": "code",
   "execution_count": 61,
   "metadata": {},
   "outputs": [
    {
     "name": "stdout",
     "output_type": "stream",
     "text": [
      "a: 196336.000000 b: 206674.000000\n",
      "a: 203700.000000 b: 5860949.000000\n",
      "a: 6663305.000000 b: 9895713.000000\n",
      "a: 196336.000000 b: 206674.000000\n",
      "a: 203700.000000 b: 5860949.000000\n",
      "a: 6663305.000000 b: 9895713.000000\n",
      "Took 1.361 seconds\n"
     ]
    }
   ],
   "source": [
    "start = time.time()\n",
    "pool = ThreadPoolExecutor(max_workers=2)\n",
    "results = list(pool.map(gcd, numbers))\n",
    "end = time.time()\n",
    "print('Took %.3f seconds' %( end - start))"
   ]
  },
  {
   "cell_type": "code",
   "execution_count": 85,
   "metadata": {},
   "outputs": [
    {
     "name": "stdout",
     "output_type": "stream",
     "text": [
      "Took 0.111 seconds\n",
      "a: 22320.000000 b: 57866.000000\n",
      "a: 0.223201 b: 0.578661\n"
     ]
    }
   ],
   "source": [
    "start = time.time()\n",
    "pool = ProcessPoolExecutor(max_workers=3)\n",
    "pool.map(gcd, a)\n",
    "end = time.time()\n",
    "print('Took %.3f seconds' %( end - start))"
   ]
  },
  {
   "cell_type": "code",
   "execution_count": 59,
   "metadata": {},
   "outputs": [
    {
     "data": {
      "text/plain": [
       "[2, 1, 1]"
      ]
     },
     "execution_count": 59,
     "metadata": {},
     "output_type": "execute_result"
    }
   ],
   "source": [
    "results"
   ]
  },
  {
   "cell_type": "code",
   "execution_count": 87,
   "metadata": {},
   "outputs": [
    {
     "name": "stdout",
     "output_type": "stream",
     "text": [
      "0.20427879740011823\n",
      "[0.67433001 3.57242506]\n"
     ]
    }
   ],
   "source": [
    "import numpy as np\n",
    "\n",
    "rand = np.random.rand()  # 一つの乱数\n",
    "print(rand)\n",
    "# 0.5399711080561779\n",
    "\n",
    "arr = np.random.rand(2)  # サイズが3の配列の乱数\n",
    "print(arr)\n",
    "# [ 0.22393312  0.56723404  0.41167989]"
   ]
  },
  {
   "cell_type": "code",
   "execution_count": 82,
   "metadata": {},
   "outputs": [],
   "source": [
    "a = tuple([np.round(arr * 100000), arr])"
   ]
  },
  {
   "cell_type": "code",
   "execution_count": null,
   "metadata": {},
   "outputs": [],
   "source": []
  }
 ],
 "metadata": {
  "kernelspec": {
   "display_name": "Python 3",
   "language": "python",
   "name": "python3"
  },
  "language_info": {
   "codemirror_mode": {
    "name": "ipython",
    "version": 3
   },
   "file_extension": ".py",
   "mimetype": "text/x-python",
   "name": "python",
   "nbconvert_exporter": "python",
   "pygments_lexer": "ipython3",
   "version": "3.7.6"
  }
 },
 "nbformat": 4,
 "nbformat_minor": 4
}
