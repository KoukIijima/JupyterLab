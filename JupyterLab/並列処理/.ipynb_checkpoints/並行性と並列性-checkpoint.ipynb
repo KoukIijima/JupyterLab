{
 "cells": [
  {
   "cell_type": "code",
   "execution_count": 278,
   "metadata": {},
   "outputs": [],
   "source": [
    "import subprocess\n",
    "import time\n",
    "import datetime\n",
    "import collections\n",
    "import numpy as np\n",
    "from concurrent.futures import ProcessPoolExecutor, ThreadPoolExecutor"
   ]
  },
  {
   "cell_type": "code",
   "execution_count": 324,
   "metadata": {},
   "outputs": [],
   "source": [
    "# 長めな処理\n",
    "def gcd(pair):\n",
    "    c = 0\n",
    "    a, b = pair\n",
    "    for i in range(100):\n",
    "        time.sleep(0.001)\n",
    "        \n",
    "\n",
    "# 逐次処理\n",
    "def single_thread_test(sample_func, arr_list, process_num):\n",
    "    result_obj = {}\n",
    "    results = []\n",
    "    for i in range(process_num):\n",
    "        start = time.time()\n",
    "        list(map(sample_func, arr_list))\n",
    "        end = time.time()\n",
    "        results.append(end - start)\n",
    "    #print(\"逐次処理： \", results)\n",
    "    result_obj[process_num] = np.mean(results)\n",
    "    return result_obj\n",
    "\n",
    "\n",
    "# ThreadPoolExecutor\n",
    "def thread_pool_test(sample_func, arr_list, process_num):\n",
    "    result_obj = {}\n",
    "    results = []\n",
    "    for i in range(process_num):\n",
    "        start = time.time()\n",
    "        pool = ThreadPoolExecutor(max_workers=2)\n",
    "        pool.map(sample_func, arr_list)\n",
    "        end = time.time()\n",
    "        results.append(end - start)\n",
    "    #print(\"ThreadPoolExecutor： \", results)\n",
    "    result_obj[process_num] = np.mean(results)\n",
    "    return result_obj\n",
    "\n",
    "\n",
    "# ProcessPoolExecutor\n",
    "def process_pool_test(sample_func, arr_list, process_num):\n",
    "    result_obj = {}\n",
    "    results = []\n",
    "    for i in range(process_num):\n",
    "        start = time.time()\n",
    "        pool = ProcessPoolExecutor(max_workers=2)\n",
    "        pool.map(sample_func, arr_list)\n",
    "        end = time.time()\n",
    "        results.append(end - start)\n",
    "    #print(\"ProcessPoolExecutor： \", results)\n",
    "    result_obj[process_num] = np.mean(results)\n",
    "    return result_obj"
   ]
  },
  {
   "cell_type": "code",
   "execution_count": 305,
   "metadata": {},
   "outputs": [],
   "source": [
    "# 処理の個数\n",
    "process_num_list = [5, 10, 50, 100]\n",
    "# 処理の重さ\n",
    "process_weight_list = [10, 1000, 10000, 100000]\n",
    "\n",
    "# 検証用データオブジェクト\n",
    "arr_obj = {}\n",
    "for process_weight in process_weight_list:\n",
    "    arr_list = []\n",
    "    for process_num in process_num_list:\n",
    "        for index in range(process_num):\n",
    "            arr_list.append(np.random.rand(2) * process_weight)\n",
    "    arr_obj[process_weight] = arr_list"
   ]
  },
  {
   "cell_type": "code",
   "execution_count": null,
   "metadata": {},
   "outputs": [],
   "source": [
    "# 検証の実行\n",
    "single_thread_test_results = []\n",
    "process_pool_test_results = []\n",
    "thread_pool_test_results = []\n",
    "\n",
    "for weight in process_weight_list:\n",
    "    i = 0\n",
    "    for process_num in process_num_list:\n",
    "        single_thread_test_results.append(single_thread_test(gcd, arr_obj[weight][i:process_num], process_num))\n",
    "        i = process_num"
   ]
  },
  {
   "cell_type": "code",
   "execution_count": null,
   "metadata": {},
   "outputs": [],
   "source": [
    "for process_weight in process_weight_list:\n",
    "    process_pool_test_results.append(process_pool_test(gcd, arr_obj[process_num], process_num_list))\n",
    "    thread_pool_test_results.append(thread_pool_test(gcd, arr_obj[process_num], process_num_list))"
   ]
  },
  {
   "cell_type": "code",
   "execution_count": 314,
   "metadata": {},
   "outputs": [
    {
     "data": {
      "text/plain": [
       "[{5: 1.4352798461914063e-05},\n",
       " {10: 1.373291015625e-05},\n",
       " {50: 1.4829635620117188e-05},\n",
       " {100: 0.00018111944198608397},\n",
       " {5: 1.373291015625e-05},\n",
       " {10: 1.2493133544921875e-05},\n",
       " {50: 0.00016301155090332032},\n",
       " {100: 0.00010960102081298828},\n",
       " {5: 1.2969970703125e-05},\n",
       " {10: 2.1576881408691406e-05},\n",
       " {50: 1.6579627990722658e-05},\n",
       " {100: 1.5614032745361327e-05},\n",
       " {5: 1.2683868408203126e-05},\n",
       " {10: 1.1849403381347657e-05},\n",
       " {50: 5.713939666748047e-05},\n",
       " {100: 2.008676528930664e-05}]"
      ]
     },
     "execution_count": 314,
     "metadata": {},
     "output_type": "execute_result"
    }
   ],
   "source": [
    "single_thread_test_results"
   ]
  },
  {
   "cell_type": "code",
   "execution_count": 315,
   "metadata": {},
   "outputs": [],
   "source": [
    "time.sleep(0.1)"
   ]
  },
  {
   "cell_type": "code",
   "execution_count": 318,
   "metadata": {},
   "outputs": [
    {
     "name": "stdout",
     "output_type": "stream",
     "text": [
      "10\n"
     ]
    }
   ],
   "source": [
    "gcd([10,11])"
   ]
  },
  {
   "cell_type": "code",
   "execution_count": 323,
   "metadata": {},
   "outputs": [
    {
     "name": "stdout",
     "output_type": "stream",
     "text": [
      "1\n",
      "2\n"
     ]
    },
    {
     "data": {
      "text/plain": [
       "[None, None]"
      ]
     },
     "execution_count": 323,
     "metadata": {},
     "output_type": "execute_result"
    }
   ],
   "source": [
    "list(map(gcd, [[1,1], [2,2]]))"
   ]
  },
  {
   "cell_type": "code",
   "execution_count": null,
   "metadata": {},
   "outputs": [],
   "source": []
  },
  {
   "cell_type": "code",
   "execution_count": null,
   "metadata": {},
   "outputs": [],
   "source": []
  }
 ],
 "metadata": {
  "kernelspec": {
   "display_name": "Python 3",
   "language": "python",
   "name": "python3"
  },
  "language_info": {
   "codemirror_mode": {
    "name": "ipython",
    "version": 3
   },
   "file_extension": ".py",
   "mimetype": "text/x-python",
   "name": "python",
   "nbconvert_exporter": "python",
   "pygments_lexer": "ipython3",
   "version": "3.7.6"
  }
 },
 "nbformat": 4,
 "nbformat_minor": 4
}
