{
 "cells": [
  {
   "cell_type": "code",
   "execution_count": 1,
   "metadata": {},
   "outputs": [],
   "source": [
    "import numpy as np; import pandas as pd\n",
    "import datetime as dt"
   ]
  },
  {
   "cell_type": "code",
   "execution_count": 3,
   "metadata": {},
   "outputs": [],
   "source": [
    "df = pd.read_csv('東京大学CSIS、株式会社ナイトレイ/20140808_snsbasedPeopleFlowData_nightley/2013-12-16.csv')"
   ]
  },
  {
   "cell_type": "code",
   "execution_count": 6,
   "metadata": {},
   "outputs": [
    {
     "data": {
      "text/html": [
       "<div>\n",
       "<style scoped>\n",
       "    .dataframe tbody tr th:only-of-type {\n",
       "        vertical-align: middle;\n",
       "    }\n",
       "\n",
       "    .dataframe tbody tr th {\n",
       "        vertical-align: top;\n",
       "    }\n",
       "\n",
       "    .dataframe thead th {\n",
       "        text-align: right;\n",
       "    }\n",
       "</style>\n",
       "<table border=\"1\" class=\"dataframe\">\n",
       "  <thead>\n",
       "    <tr style=\"text-align: right;\">\n",
       "      <th></th>\n",
       "      <th>1015</th>\n",
       "      <th>unknown</th>\n",
       "      <th>2013-12-16 00:00:00</th>\n",
       "      <th>35.98297679</th>\n",
       "      <th>139.61399613</th>\n",
       "      <th>home</th>\n",
       "      <th>departure</th>\n",
       "      <th>STAY</th>\n",
       "      <th>8</th>\n",
       "    </tr>\n",
       "  </thead>\n",
       "  <tbody>\n",
       "    <tr>\n",
       "      <th>0</th>\n",
       "      <td>1015</td>\n",
       "      <td>unknown</td>\n",
       "      <td>2013-12-16 08:20:03</td>\n",
       "      <td>35.778026</td>\n",
       "      <td>139.720928</td>\n",
       "      <td>NaN</td>\n",
       "      <td>NaN</td>\n",
       "      <td>STAY</td>\n",
       "      <td>NaN</td>\n",
       "    </tr>\n",
       "    <tr>\n",
       "      <th>1</th>\n",
       "      <td>1015</td>\n",
       "      <td>unknown</td>\n",
       "      <td>2013-12-16 08:35:41</td>\n",
       "      <td>35.743737</td>\n",
       "      <td>139.708330</td>\n",
       "      <td>NaN</td>\n",
       "      <td>NaN</td>\n",
       "      <td>MOVE</td>\n",
       "      <td>NaN</td>\n",
       "    </tr>\n",
       "    <tr>\n",
       "      <th>2</th>\n",
       "      <td>1015</td>\n",
       "      <td>unknown</td>\n",
       "      <td>2013-12-16 08:40:54</td>\n",
       "      <td>35.702950</td>\n",
       "      <td>139.708482</td>\n",
       "      <td>NaN</td>\n",
       "      <td>NaN</td>\n",
       "      <td>MOVE</td>\n",
       "      <td>NaN</td>\n",
       "    </tr>\n",
       "    <tr>\n",
       "      <th>3</th>\n",
       "      <td>1015</td>\n",
       "      <td>unknown</td>\n",
       "      <td>2013-12-16 08:45:00</td>\n",
       "      <td>35.690919</td>\n",
       "      <td>139.700259</td>\n",
       "      <td>NaN</td>\n",
       "      <td>NaN</td>\n",
       "      <td>STAY</td>\n",
       "      <td>NaN</td>\n",
       "    </tr>\n",
       "    <tr>\n",
       "      <th>4</th>\n",
       "      <td>1015</td>\n",
       "      <td>unknown</td>\n",
       "      <td>2013-12-16 10:15:00</td>\n",
       "      <td>35.690906</td>\n",
       "      <td>139.698964</td>\n",
       "      <td>NaN</td>\n",
       "      <td>NaN</td>\n",
       "      <td>MOVE</td>\n",
       "      <td>NaN</td>\n",
       "    </tr>\n",
       "  </tbody>\n",
       "</table>\n",
       "</div>"
      ],
      "text/plain": [
       "   1015  unknown  2013-12-16 00:00:00  35.98297679  139.61399613 home  \\\n",
       "0  1015  unknown  2013-12-16 08:20:03    35.778026    139.720928  NaN   \n",
       "1  1015  unknown  2013-12-16 08:35:41    35.743737    139.708330  NaN   \n",
       "2  1015  unknown  2013-12-16 08:40:54    35.702950    139.708482  NaN   \n",
       "3  1015  unknown  2013-12-16 08:45:00    35.690919    139.700259  NaN   \n",
       "4  1015  unknown  2013-12-16 10:15:00    35.690906    139.698964  NaN   \n",
       "\n",
       "  departure  STAY   8  \n",
       "0       NaN  STAY NaN  \n",
       "1       NaN  MOVE NaN  \n",
       "2       NaN  MOVE NaN  \n",
       "3       NaN  STAY NaN  \n",
       "4       NaN  MOVE NaN  "
      ]
     },
     "execution_count": 6,
     "metadata": {},
     "output_type": "execute_result"
    }
   ],
   "source": [
    "df.head()"
   ]
  },
  {
   "cell_type": "code",
   "execution_count": null,
   "metadata": {},
   "outputs": [],
   "source": []
  },
  {
   "cell_type": "code",
   "execution_count": 8,
   "metadata": {},
   "outputs": [],
   "source": [
    "df.iloc[:,2] = pd.to_datetime(df.iloc[:, 2]) # 日付・時刻\n",
    "df.iloc[:,4] = df.iloc[:, 4].astype(float)   # 経度:lat\n",
    "df.iloc[:,3] = df.iloc[:, 3].astype(float)   # 緯度:long"
   ]
  },
  {
   "cell_type": "code",
   "execution_count": 9,
   "metadata": {},
   "outputs": [],
   "source": [
    "humans = df[(dt.datetime(2013, 12, 16, 7, 0) < df.iloc[:, 2]) & \n",
    "            (df.iloc[:, 2] < dt.datetime(2013, 12, 16, 7, 30))]"
   ]
  },
  {
   "cell_type": "code",
   "execution_count": 25,
   "metadata": {},
   "outputs": [],
   "source": [
    "from ipyleaflet import *\n"
   ]
  },
  {
   "cell_type": "code",
   "execution_count": null,
   "metadata": {},
   "outputs": [],
   "source": []
  },
  {
   "cell_type": "code",
   "execution_count": null,
   "metadata": {},
   "outputs": [],
   "source": []
  }
 ],
 "metadata": {
  "kernelspec": {
   "display_name": "Python 3",
   "language": "python",
   "name": "python3"
  },
  "language_info": {
   "codemirror_mode": {
    "name": "ipython",
    "version": 3
   },
   "file_extension": ".py",
   "mimetype": "text/x-python",
   "name": "python",
   "nbconvert_exporter": "python",
   "pygments_lexer": "ipython3",
   "version": "3.7.6"
  }
 },
 "nbformat": 4,
 "nbformat_minor": 4
}
