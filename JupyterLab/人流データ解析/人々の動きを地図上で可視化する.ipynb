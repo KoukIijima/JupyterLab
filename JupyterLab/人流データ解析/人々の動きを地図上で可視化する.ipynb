{
 "cells": [
  {
   "cell_type": "code",
   "execution_count": null,
   "metadata": {},
   "outputs": [],
   "source": [
    "import numpy as np; import pandas as pd\n",
    "import datetime as dt"
   ]
  },
  {
   "cell_type": "code",
   "execution_count": null,
   "metadata": {},
   "outputs": [],
   "source": [
    "df = pd.read_csv('東京大学CSIS、株式会社ナイトレイ/20140808_snsbasedPeopleFlowData_nightley/2013-12-16.csv')"
   ]
  },
  {
   "cell_type": "code",
   "execution_count": null,
   "metadata": {},
   "outputs": [],
   "source": [
    "df.head()"
   ]
  },
  {
   "cell_type": "code",
   "execution_count": null,
   "metadata": {},
   "outputs": [],
   "source": []
  },
  {
   "cell_type": "code",
   "execution_count": null,
   "metadata": {},
   "outputs": [],
   "source": [
    "df.iloc[:,2] = pd.to_datetime(df.iloc[:, 2]) # 日付・時刻\n",
    "df.iloc[:,4] = df.iloc[:, 4].astype(float)   # 経度:lat\n",
    "df.iloc[:,3] = df.iloc[:, 3].astype(float)   # 緯度:long"
   ]
  },
  {
   "cell_type": "code",
   "execution_count": 5,
   "metadata": {},
   "outputs": [],
   "source": [
    "humans = df[(dt.datetime(2013, 12, 16, 7, 0) < df.iloc[:, 2]) & \n",
    "            (df.iloc[:, 2] < dt.datetime(2013, 12, 16, 7, 30))]"
   ]
  },
  {
   "cell_type": "code",
   "execution_count": 6,
   "metadata": {},
   "outputs": [],
   "source": [
    "from ipyleaflet import *\n",
    "from ipyleaflet import Map, FullScreenControl\n",
    "# m = Map( center=(35.6811236, 139.76712), zoom=15,\n",
    "#        basemap=basemaps.OpenStreetMap.Mapnik )\n",
    "m = Map( center=(35.6811236, 139.76712), zoom=10,\n",
    "       basemap=basemaps.OpenStreetMap.Mapnik )"
   ]
  },
  {
   "cell_type": "code",
   "execution_count": 7,
   "metadata": {},
   "outputs": [],
   "source": [
    "points = [];\n",
    "for row in humans.itertuples(name=None):\n",
    "    points.append( Circle( location=(row[4], row[5]), # ( lng, lat )\n",
    "                 radius=150, fill=True, fill_opacity=0.3, stroke=False) )"
   ]
  },
  {
   "cell_type": "code",
   "execution_count": 13,
   "metadata": {},
   "outputs": [],
   "source": [
    "for point in points:\n",
    "    m.add_layer(point)"
   ]
  },
  {
   "cell_type": "code",
   "execution_count": 11,
   "metadata": {},
   "outputs": [
    {
     "data": {
      "text/plain": [
       "[35.72634666, 139.74144187]"
      ]
     },
     "execution_count": 11,
     "metadata": {},
     "output_type": "execute_result"
    }
   ],
   "source": [
    "points[0].location"
   ]
  },
  {
   "cell_type": "code",
   "execution_count": 12,
   "metadata": {},
   "outputs": [
    {
     "data": {
      "application/vnd.jupyter.widget-view+json": {
       "model_id": "15403c5495b74c3a947ffb4ea0126d80",
       "version_major": 2,
       "version_minor": 0
      },
      "text/plain": [
       "Map(center=[35.6811236, 139.76712], controls=(ZoomControl(options=['position', 'zoom_in_text', 'zoom_in_title'…"
      ]
     },
     "metadata": {},
     "output_type": "display_data"
    }
   ],
   "source": [
    "m"
   ]
  },
  {
   "cell_type": "code",
   "execution_count": 7,
   "metadata": {},
   "outputs": [],
   "source": [
    "humans_2 = df[(dt.datetime(2013, 12, 16, 9, 0) < df.iloc[:, 2]) & \n",
    "            (df.iloc[:, 2] < dt.datetime(2013, 12, 16, 9, 30))]"
   ]
  },
  {
   "cell_type": "code",
   "execution_count": 8,
   "metadata": {},
   "outputs": [],
   "source": [
    "humans_3 = df[(dt.datetime(2013, 12, 16, 8, 0) < df.iloc[:, 2]) & \n",
    "            (df.iloc[:, 2] < dt.datetime(2013, 12, 16, 9, 0))]"
   ]
  },
  {
   "cell_type": "code",
   "execution_count": null,
   "metadata": {},
   "outputs": [],
   "source": [
    "m_2 = Map( center=(35.6811236, 139.76712), zoom=10,\n",
    "       basemap=basemap=basemaps.CartoDB.Positron )"
   ]
  },
  {
   "cell_type": "code",
   "execution_count": 10,
   "metadata": {},
   "outputs": [],
   "source": [
    "m_3 = Map( center=(35.6811236, 139.76712), zoom=10,\n",
    "       basemap=basemap=basemaps.CartoDB.Positron )"
   ]
  },
  {
   "cell_type": "code",
   "execution_count": 14,
   "metadata": {},
   "outputs": [],
   "source": [
    "points_2 = [];\n",
    "for row in humans_2.itertuples(name=None):\n",
    "    points_2.append( Circle( location=(row[4], row[5]), # ( lng, lat )\n",
    "                 radius=150, fill=True, fill_opacity=0.3, stroke=False) )"
   ]
  },
  {
   "cell_type": "code",
   "execution_count": 15,
   "metadata": {},
   "outputs": [],
   "source": [
    "points_3 = [];\n",
    "for row in humans_3.itertuples(name=None):\n",
    "    points_3.append( Circle( location=(row[4], row[5]), # ( lng, lat )\n",
    "                 radius=150, fill=True, fill_opacity=0.3, stroke=False) )"
   ]
  },
  {
   "cell_type": "code",
   "execution_count": null,
   "metadata": {},
   "outputs": [],
   "source": [
    "for point in points_3:\n",
    "    m_3.add_layer(point)"
   ]
  },
  {
   "cell_type": "code",
   "execution_count": null,
   "metadata": {},
   "outputs": [],
   "source": [
    "for point in points_2:\n",
    "    m_2.add_layer(point)"
   ]
  },
  {
   "cell_type": "code",
   "execution_count": null,
   "metadata": {},
   "outputs": [],
   "source": [
    "m_2"
   ]
  },
  {
   "cell_type": "code",
   "execution_count": 12,
   "metadata": {},
   "outputs": [
    {
     "data": {
      "application/vnd.jupyter.widget-view+json": {
       "model_id": "5031b3c063a44d08a982502842db8b2d",
       "version_major": 2,
       "version_minor": 0
      },
      "text/plain": [
       "Map(center=[35.6811236, 139.76712], controls=(ZoomControl(options=['position', 'zoom_in_text', 'zoom_in_title'…"
      ]
     },
     "metadata": {},
     "output_type": "display_data"
    }
   ],
   "source": [
    "m_3"
   ]
  },
  {
   "cell_type": "code",
   "execution_count": null,
   "metadata": {},
   "outputs": [],
   "source": []
  }
 ],
 "metadata": {
  "kernelspec": {
   "display_name": "Python 3",
   "language": "python",
   "name": "python3"
  },
  "language_info": {
   "codemirror_mode": {
    "name": "ipython",
    "version": 3
   },
   "file_extension": ".py",
   "mimetype": "text/x-python",
   "name": "python",
   "nbconvert_exporter": "python",
   "pygments_lexer": "ipython3",
   "version": "3.7.6"
  }
 },
 "nbformat": 4,
 "nbformat_minor": 4
}
